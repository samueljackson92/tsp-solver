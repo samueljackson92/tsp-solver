{
 "metadata": {
  "name": "",
  "signature": "sha256:3ef30bc5b55a427844820d39a8f676a43a5076655626c84b54c0772e4692ffb1"
 },
 "nbformat": 3,
 "nbformat_minor": 0,
 "worksheets": [
  {
   "cells": [
    {
     "cell_type": "code",
     "collapsed": false,
     "input": [
      "%logstart\n",
      "%matplotlib inline\n",
      "\n",
      "import numpy as np\n",
      "import pandas as pd\n",
      "import matplotlib.pyplot as plt\n",
      "from tspsolver.tsp_generator import TSPGenerator\n",
      "from tspsolver.ga.simulator import Simulator\n",
      "from tspsolver.tuning import GeneticAlgorithmParameterEstimation\n",
      "\n",
      "OUTPUT_TABLE_DIR = \"../report/tables/\"\n",
      "OUTPUT_FIG_DIR = \"../report/figures/\""
     ],
     "language": "python",
     "metadata": {},
     "outputs": [
      {
       "output_type": "stream",
       "stream": "stdout",
       "text": [
        "Activating auto-logging. Current session state plus future input saved.\n",
        "Filename       : ipython_log.py\n",
        "Mode           : rotate\n",
        "Output logging : False\n",
        "Raw input log  : False\n",
        "Timestamping   : False\n",
        "State          : active\n"
       ]
      }
     ],
     "prompt_number": 1
    },
    {
     "cell_type": "code",
     "collapsed": false,
     "input": [
      "NUM_DATASETS = 5 # number of datasets to take the mean fitness over \n",
      "NUM_POINTS = 50  # number of points to use in each dataset\n",
      "tuner = GeneticAlgorithmParameterEstimation(NUM_DATASETS, NUM_POINTS)"
     ],
     "language": "python",
     "metadata": {},
     "outputs": [],
     "prompt_number": 2
    },
    {
     "cell_type": "code",
     "collapsed": false,
     "input": [
      "params = {\n",
      "    \"num_epochs\": [1000],\n",
      "    \"num_elites\": [0, 1, 2],\n",
      "    \"generator\": [\"SimplePopulationGenerator\"],\n",
      "    \"generator_population_size\": [40],\n",
      "    \"selector\": [\"TournamentSelection\"],\n",
      "    \"selector_tournament_size\": [10],\n",
      "    \"crossover\": [\"OrderCrossover\"],\n",
      "    \"crossover_pcross\": [0.9],\n",
      "    \"mutator\": [\"InversionMutation\"],\n",
      "    \"mutator_pmutate\": [0.2]\n",
      "}"
     ],
     "language": "python",
     "metadata": {},
     "outputs": [],
     "prompt_number": 14
    },
    {
     "cell_type": "code",
     "collapsed": false,
     "input": [
      "elite_results = tuner.perform_grid_search(params)"
     ],
     "language": "python",
     "metadata": {},
     "outputs": [],
     "prompt_number": 15
    },
    {
     "cell_type": "code",
     "collapsed": false,
     "input": [
      "elite_results"
     ],
     "language": "python",
     "metadata": {},
     "outputs": [
      {
       "html": [
        "<div style=\"max-width:1500px;overflow:auto;\">\n",
        "<table border=\"1\" class=\"dataframe\">\n",
        "  <thead>\n",
        "    <tr style=\"text-align: right;\">\n",
        "      <th></th>\n",
        "      <th>crossover</th>\n",
        "      <th>crossover_pcross</th>\n",
        "      <th>generator</th>\n",
        "      <th>generator_population_size</th>\n",
        "      <th>mutator</th>\n",
        "      <th>mutator_pmutate</th>\n",
        "      <th>num_elites</th>\n",
        "      <th>num_epochs</th>\n",
        "      <th>selector</th>\n",
        "      <th>selector_tournament_size</th>\n",
        "      <th>fitness</th>\n",
        "    </tr>\n",
        "  </thead>\n",
        "  <tbody>\n",
        "    <tr>\n",
        "      <th>0</th>\n",
        "      <td>OrderCrossover</td>\n",
        "      <td>0.9</td>\n",
        "      <td>SimplePopulationGenerator</td>\n",
        "      <td>40</td>\n",
        "      <td>InversionMutation</td>\n",
        "      <td>0.2</td>\n",
        "      <td>0</td>\n",
        "      <td>1000</td>\n",
        "      <td>TournamentSelection</td>\n",
        "      <td>10</td>\n",
        "      <td>74.018956</td>\n",
        "    </tr>\n",
        "    <tr>\n",
        "      <th>1</th>\n",
        "      <td>OrderCrossover</td>\n",
        "      <td>0.9</td>\n",
        "      <td>SimplePopulationGenerator</td>\n",
        "      <td>40</td>\n",
        "      <td>InversionMutation</td>\n",
        "      <td>0.2</td>\n",
        "      <td>1</td>\n",
        "      <td>1000</td>\n",
        "      <td>TournamentSelection</td>\n",
        "      <td>10</td>\n",
        "      <td>73.651241</td>\n",
        "    </tr>\n",
        "    <tr>\n",
        "      <th>2</th>\n",
        "      <td>OrderCrossover</td>\n",
        "      <td>0.9</td>\n",
        "      <td>SimplePopulationGenerator</td>\n",
        "      <td>40</td>\n",
        "      <td>InversionMutation</td>\n",
        "      <td>0.2</td>\n",
        "      <td>2</td>\n",
        "      <td>1000</td>\n",
        "      <td>TournamentSelection</td>\n",
        "      <td>10</td>\n",
        "      <td>74.376653</td>\n",
        "    </tr>\n",
        "  </tbody>\n",
        "</table>\n",
        "</div>"
       ],
       "metadata": {},
       "output_type": "pyout",
       "prompt_number": 16,
       "text": [
        "        crossover  crossover_pcross                  generator  \\\n",
        "0  OrderCrossover               0.9  SimplePopulationGenerator   \n",
        "1  OrderCrossover               0.9  SimplePopulationGenerator   \n",
        "2  OrderCrossover               0.9  SimplePopulationGenerator   \n",
        "\n",
        "   generator_population_size            mutator  mutator_pmutate  num_elites  \\\n",
        "0                         40  InversionMutation              0.2           0   \n",
        "1                         40  InversionMutation              0.2           1   \n",
        "2                         40  InversionMutation              0.2           2   \n",
        "\n",
        "   num_epochs             selector  selector_tournament_size    fitness  \n",
        "0        1000  TournamentSelection                        10  74.018956  \n",
        "1        1000  TournamentSelection                        10  73.651241  \n",
        "2        1000  TournamentSelection                        10  74.376653  "
       ]
      }
     ],
     "prompt_number": 16
    },
    {
     "cell_type": "code",
     "collapsed": false,
     "input": [
      "elite_results[['num_elites', 'fitness']].to_latex(OUTPUT_TABLE_DIR + \"elite_fitness.tex\")"
     ],
     "language": "python",
     "metadata": {},
     "outputs": [],
     "prompt_number": 17
    },
    {
     "cell_type": "code",
     "collapsed": false,
     "input": [
      "gen = TSPGenerator(NUM_POINTS)\n",
      "data = gen.generate()\n",
      "\n",
      "all_fitness = []\n",
      "for i, row in elite_results.iterrows():\n",
      "    params = row.to_dict()\n",
      "    sim = Simulator(**params)\n",
      "    sim.evolve(data)\n",
      "    all_fitness.append(sim.get_min_fitness()[::10])\n",
      "    \n",
      "df = pd.DataFrame(np.array(all_fitness))"
     ],
     "language": "python",
     "metadata": {},
     "outputs": [],
     "prompt_number": 7
    },
    {
     "cell_type": "code",
     "collapsed": false,
     "input": [
      "ax = df.T.plot()\n",
      "ax.set_xlabel(\"Epoch\")\n",
      "ax.set_ylabel(\"Fitness\")\n",
      "plt.savefig(OUTPUT_FIG_DIR + 'elite_convergence.png', bbox_inches='tight')"
     ],
     "language": "python",
     "metadata": {},
     "outputs": [
      {
       "metadata": {},
       "output_type": "display_data",
       "png": "[encoded data removed]",
       "text": [
        "<matplotlib.figure.Figure at 0x1122b2050>"
       ]
      }
     ],
     "prompt_number": 11
    },
    {
     "cell_type": "markdown",
     "metadata": {},
     "source": [
      "## KNN Population Generation"
     ]
    },
    {
     "cell_type": "code",
     "collapsed": false,
     "input": [
      "params = {\n",
      "    \"num_epochs\": [1000],\n",
      "    \"num_elites\": [1],\n",
      "    \"generator\": [\"SimplePopulationGenerator\", \"KNNPopulationGenerator\"],\n",
      "    \"generator_random_proportion\": [0.3, 0.5, 0.6],\n",
      "    \"generator_population_size\": [40],\n",
      "    \"selector\": [\"TournamentSelection\"],\n",
      "    \"selector_tournament_size\": [10],\n",
      "    \"crossover\": [\"OrderCrossover\"],\n",
      "    \"crossover_pcross\": [0.9],\n",
      "    \"mutator\": [\"InversionMutation\"],\n",
      "    \"mutator_pmutate\": [0.2]\n",
      "}"
     ],
     "language": "python",
     "metadata": {},
     "outputs": [],
     "prompt_number": 55
    },
    {
     "cell_type": "code",
     "collapsed": false,
     "input": [
      "NUM_DATASETS = 5 # number of datasets to take the mean fitness over \n",
      "NUM_POINTS = 100  # number of points to use in each dataset\n",
      "tuner = GeneticAlgorithmParameterEstimation(NUM_DATASETS, NUM_POINTS)\n",
      "knn_results = tuner.perform_grid_search(params)"
     ],
     "language": "python",
     "metadata": {},
     "outputs": [],
     "prompt_number": 56
    },
    {
     "cell_type": "code",
     "collapsed": false,
     "input": [
      "t = knn_results.iloc[[0,3,4,5]]\n",
      "t['generator_random_proportion'][0] = np.NaN\n",
      "t.index = np.arange(4)\n",
      "t[['generator', 'generator_random_proportion', 'fitness']]"
     ],
     "language": "python",
     "metadata": {},
     "outputs": [
      {
       "html": [
        "<div style=\"max-width:1500px;overflow:auto;\">\n",
        "<table border=\"1\" class=\"dataframe\">\n",
        "  <thead>\n",
        "    <tr style=\"text-align: right;\">\n",
        "      <th></th>\n",
        "      <th>generator</th>\n",
        "      <th>generator_random_proportion</th>\n",
        "      <th>fitness</th>\n",
        "    </tr>\n",
        "  </thead>\n",
        "  <tbody>\n",
        "    <tr>\n",
        "      <th>0</th>\n",
        "      <td>SimplePopulationGenerator</td>\n",
        "      <td>NaN</td>\n",
        "      <td>134.464263</td>\n",
        "    </tr>\n",
        "    <tr>\n",
        "      <th>1</th>\n",
        "      <td>KNNPopulationGenerator</td>\n",
        "      <td>0.3</td>\n",
        "      <td>128.815815</td>\n",
        "    </tr>\n",
        "    <tr>\n",
        "      <th>2</th>\n",
        "      <td>KNNPopulationGenerator</td>\n",
        "      <td>0.5</td>\n",
        "      <td>126.743674</td>\n",
        "    </tr>\n",
        "    <tr>\n",
        "      <th>3</th>\n",
        "      <td>KNNPopulationGenerator</td>\n",
        "      <td>0.6</td>\n",
        "      <td>120.437607</td>\n",
        "    </tr>\n",
        "  </tbody>\n",
        "</table>\n",
        "</div>"
       ],
       "metadata": {},
       "output_type": "pyout",
       "prompt_number": 57,
       "text": [
        "                   generator  generator_random_proportion     fitness\n",
        "0  SimplePopulationGenerator                          NaN  134.464263\n",
        "1     KNNPopulationGenerator                          0.3  128.815815\n",
        "2     KNNPopulationGenerator                          0.5  126.743674\n",
        "3     KNNPopulationGenerator                          0.6  120.437607"
       ]
      }
     ],
     "prompt_number": 57
    },
    {
     "cell_type": "code",
     "collapsed": false,
     "input": [
      "t[['generator', 'generator_random_proportion', 'fitness']].to_latex(OUTPUT_TABLE_DIR + \"knn_fitness.tex\")"
     ],
     "language": "python",
     "metadata": {},
     "outputs": [],
     "prompt_number": 58
    },
    {
     "cell_type": "code",
     "collapsed": false,
     "input": [
      "gen = TSPGenerator(NUM_POINTS)\n",
      "data = gen.generate()\n",
      "p = knn_results.iloc[[0,3,4,5]]\n",
      "all_fitness = []\n",
      "for i, row in p.iterrows():\n",
      "    params = row.to_dict()\n",
      "    sim = Simulator(**params)\n",
      "    sim.evolve(data)\n",
      "    all_fitness.append(sim.get_min_fitness()[::10])\n",
      "    \n",
      "df = pd.DataFrame(np.array(all_fitness))"
     ],
     "language": "python",
     "metadata": {},
     "outputs": [],
     "prompt_number": 59
    },
    {
     "cell_type": "code",
     "collapsed": false,
     "input": [
      "t['generator-name'] = t[['generator', 'generator_random_proportion']].apply(lambda x: '-'.join([x[0], str(x[1])]), axis=1)\n",
      "t['generator-name'][0] = t['generator'][0]\n",
      "t"
     ],
     "language": "python",
     "metadata": {},
     "outputs": [
      {
       "html": [
        "<div style=\"max-width:1500px;overflow:auto;\">\n",
        "<table border=\"1\" class=\"dataframe\">\n",
        "  <thead>\n",
        "    <tr style=\"text-align: right;\">\n",
        "      <th></th>\n",
        "      <th>crossover</th>\n",
        "      <th>crossover_pcross</th>\n",
        "      <th>generator</th>\n",
        "      <th>generator_population_size</th>\n",
        "      <th>generator_random_proportion</th>\n",
        "      <th>mutator</th>\n",
        "      <th>mutator_pmutate</th>\n",
        "      <th>num_elites</th>\n",
        "      <th>num_epochs</th>\n",
        "      <th>selector</th>\n",
        "      <th>selector_tournament_size</th>\n",
        "      <th>fitness</th>\n",
        "      <th>generator-name</th>\n",
        "    </tr>\n",
        "  </thead>\n",
        "  <tbody>\n",
        "    <tr>\n",
        "      <th>0</th>\n",
        "      <td>OrderCrossover</td>\n",
        "      <td>0.9</td>\n",
        "      <td>SimplePopulationGenerator</td>\n",
        "      <td>40</td>\n",
        "      <td>NaN</td>\n",
        "      <td>InversionMutation</td>\n",
        "      <td>0.2</td>\n",
        "      <td>1</td>\n",
        "      <td>1000</td>\n",
        "      <td>TournamentSelection</td>\n",
        "      <td>10</td>\n",
        "      <td>134.464263</td>\n",
        "      <td>SimplePopulationGenerator</td>\n",
        "    </tr>\n",
        "    <tr>\n",
        "      <th>1</th>\n",
        "      <td>OrderCrossover</td>\n",
        "      <td>0.9</td>\n",
        "      <td>KNNPopulationGenerator</td>\n",
        "      <td>40</td>\n",
        "      <td>0.3</td>\n",
        "      <td>InversionMutation</td>\n",
        "      <td>0.2</td>\n",
        "      <td>1</td>\n",
        "      <td>1000</td>\n",
        "      <td>TournamentSelection</td>\n",
        "      <td>10</td>\n",
        "      <td>128.815815</td>\n",
        "      <td>KNNPopulationGenerator-0.3</td>\n",
        "    </tr>\n",
        "    <tr>\n",
        "      <th>2</th>\n",
        "      <td>OrderCrossover</td>\n",
        "      <td>0.9</td>\n",
        "      <td>KNNPopulationGenerator</td>\n",
        "      <td>40</td>\n",
        "      <td>0.5</td>\n",
        "      <td>InversionMutation</td>\n",
        "      <td>0.2</td>\n",
        "      <td>1</td>\n",
        "      <td>1000</td>\n",
        "      <td>TournamentSelection</td>\n",
        "      <td>10</td>\n",
        "      <td>126.743674</td>\n",
        "      <td>KNNPopulationGenerator-0.5</td>\n",
        "    </tr>\n",
        "    <tr>\n",
        "      <th>3</th>\n",
        "      <td>OrderCrossover</td>\n",
        "      <td>0.9</td>\n",
        "      <td>KNNPopulationGenerator</td>\n",
        "      <td>40</td>\n",
        "      <td>0.6</td>\n",
        "      <td>InversionMutation</td>\n",
        "      <td>0.2</td>\n",
        "      <td>1</td>\n",
        "      <td>1000</td>\n",
        "      <td>TournamentSelection</td>\n",
        "      <td>10</td>\n",
        "      <td>120.437607</td>\n",
        "      <td>KNNPopulationGenerator-0.6</td>\n",
        "    </tr>\n",
        "  </tbody>\n",
        "</table>\n",
        "</div>"
       ],
       "metadata": {},
       "output_type": "pyout",
       "prompt_number": 72,
       "text": [
        "        crossover  crossover_pcross                  generator  \\\n",
        "0  OrderCrossover               0.9  SimplePopulationGenerator   \n",
        "1  OrderCrossover               0.9     KNNPopulationGenerator   \n",
        "2  OrderCrossover               0.9     KNNPopulationGenerator   \n",
        "3  OrderCrossover               0.9     KNNPopulationGenerator   \n",
        "\n",
        "   generator_population_size  generator_random_proportion            mutator  \\\n",
        "0                         40                          NaN  InversionMutation   \n",
        "1                         40                          0.3  InversionMutation   \n",
        "2                         40                          0.5  InversionMutation   \n",
        "3                         40                          0.6  InversionMutation   \n",
        "\n",
        "   mutator_pmutate  num_elites  num_epochs             selector  \\\n",
        "0              0.2           1        1000  TournamentSelection   \n",
        "1              0.2           1        1000  TournamentSelection   \n",
        "2              0.2           1        1000  TournamentSelection   \n",
        "3              0.2           1        1000  TournamentSelection   \n",
        "\n",
        "   selector_tournament_size     fitness              generator-name  \n",
        "0                        10  134.464263   SimplePopulationGenerator  \n",
        "1                        10  128.815815  KNNPopulationGenerator-0.3  \n",
        "2                        10  126.743674  KNNPopulationGenerator-0.5  \n",
        "3                        10  120.437607  KNNPopulationGenerator-0.6  "
       ]
      }
     ],
     "prompt_number": 72
    },
    {
     "cell_type": "code",
     "collapsed": false,
     "input": [
      "df.index = t['generator-name']\n",
      "ax = df.T.plot()\n",
      "ax.set_xlabel(\"Epoch\")\n",
      "ax.set_ylabel(\"Fitness\")\n",
      "plt.savefig(OUTPUT_FIG_DIR + 'knn_convergence.png', bbox_inches='tight')"
     ],
     "language": "python",
     "metadata": {},
     "outputs": [
      {
       "metadata": {},
       "output_type": "display_data",
       "png": "[encoded data removed]",
       "text": [
        "<matplotlib.figure.Figure at 0x112881550>"
       ]
      }
     ],
     "prompt_number": 73
    }
   ],
   "metadata": {}
  }
 ]
}